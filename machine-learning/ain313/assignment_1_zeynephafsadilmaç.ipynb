{
  "cells": [
    {
      "cell_type": "markdown",
      "metadata": {
        "id": "DLbXY8TMdY6u"
      },
      "source": [
        "# AIN313 - Machine Learning Lab.\n",
        "\n",
        "**Assignment 1**\n",
        "\n",
        "**Diesase Detection on X-Ray Images**\n",
        "\n",
        "**Instructor: **Erkut Erdem\n",
        "\n",
        "**TA:** Sibel Kapan\n"
      ]
    },
    {
      "cell_type": "markdown",
      "metadata": {
        "id": "1Vr2DkVAduw-"
      },
      "source": [
        "## Student Information\n",
        "\n",
        "Please fill the informations!\n",
        "\n",
        "Name Surname: Zeynep Hafsa Dilmaç\n",
        "\n",
        "Student ID: 21992905"
      ]
    },
    {
      "cell_type": "code",
      "execution_count": 13,
      "metadata": {
        "id": "5mwCoXFhdX_Z"
      },
      "outputs": [],
      "source": [
        "#some important libraries\n",
        "import pandas as pd\n",
        "import numpy as np\n",
        "import os\n",
        "import cv2\n",
        "import matplotlib.pyplot as plt\n",
        "from sklearn import metrics\n",
        "from sklearn.metrics import precision_score, recall_score, accuracy_score"
      ]
    },
    {
      "cell_type": "code",
      "source": [
        "#I connected drive to read zip file properly\n",
        "from google.colab import drive\n",
        "drive.mount('/content/drive')"
      ],
      "metadata": {
        "colab": {
          "base_uri": "https://localhost:8080/"
        },
        "id": "EVcDS0oUsj6N",
        "outputId": "d9cd377d-e1b8-4d46-c8cf-5e916c4a8c17"
      },
      "execution_count": 3,
      "outputs": [
        {
          "output_type": "stream",
          "name": "stdout",
          "text": [
            "Mounted at /content/drive\n"
          ]
        }
      ]
    },
    {
      "cell_type": "code",
      "source": [
        "#unzipping\n",
        "#!unzip chest_xray.zip"
      ],
      "metadata": {
        "id": "3RYLHPU1-uHc"
      },
      "execution_count": null,
      "outputs": []
    },
    {
      "cell_type": "code",
      "source": [
        "#Canny algorithm for training\n",
        "def CannyFunction(img):\n",
        "  t_lower=15\n",
        "  t_upper=120\n",
        "  edge=cv2.Canny(img,t_lower,t_upper)\n",
        "  return edge.flatten()/255."
      ],
      "metadata": {
        "id": "myFLHsDOfsZ1"
      },
      "execution_count": 4,
      "outputs": []
    },
    {
      "cell_type": "code",
      "source": [
        "#Gabor algorith for training\n",
        "def GaborFunction(resized):\n",
        "  ksize=20\n",
        "  g_kernel=cv2.getGaborKernel((ksize,ksize),4.0,np.pi/16,10.0,0.5,0,ktype=cv2.CV_32F)\n",
        "  g_kernel/=1.5*g_kernel.sum()\n",
        "  img=cv2.cvtColor(resized,cv2.COLOR_BGR2GRAY)\n",
        "  filteredimg=cv2.filter2D(img,cv2.CV_8UC3,g_kernel)\n",
        "  return filteredimg.flatten()/255."
      ],
      "metadata": {
        "id": "0v3FOEaufvg3"
      },
      "execution_count": 5,
      "outputs": []
    },
    {
      "cell_type": "code",
      "source": [
        "#In this step,In this step, I read the data from the paths and saved it. I also read the data separately and saved their tags to label\n",
        "# them while saving.The labels I used were \"0\" for covid patients, \"1\" for normal individuals, and \"2\" for pneumonia patients.\n",
        "#I also created three train lists. The first one saves the data as it is, the second one applies and saves the Canny filter, and\n",
        "# the last one applies the Gabor filter and saves.This way, I will be able to individually control how much effect the filters have.\n",
        "path1=\"drive/MyDrive/chest_xray/train/covid\"\n",
        "path2=\"drive/MyDrive/chest_xray/train/normal\"\n",
        "path3=\"drive/MyDrive/chest_xray/train/pneumonia\"\n",
        "traincovid=os.listdir(path1)\n",
        "trainnormal=os.listdir(path2)\n",
        "trainp=os.listdir(path3)\n",
        "dim=64 #at first size 32, then 64\n",
        "imagedict=[]\n",
        "cannytrainlist=[]\n",
        "gabortrainlist=[]\n",
        "for i in traincovid:\n",
        "  img=cv2.imread(os.path.join(path1,i))\n",
        "  imgres=cv2.resize(img,(dim,dim))\n",
        "  liste=[];liste1=[];liste2=[]\n",
        "  liste.append(imgres)\n",
        "  liste.append(0);imagedict.append(liste)\n",
        "  liste1.append(CannyFunction(imgres))\n",
        "  liste1.append(0);cannytrainlist.append(liste1)\n",
        "  liste2.append(GaborFunction(imgres))\n",
        "  liste2.append(0);gabortrainlist.append(liste2)\n",
        "for i in trainnormal:\n",
        "  img=cv2.imread(os.path.join(path2,i))\n",
        "  imgres=cv2.resize(img,(dim,dim))\n",
        "  liste=[];liste1=[];liste2=[]\n",
        "  liste.append(imgres)\n",
        "  liste.append(1);imagedict.append(liste)\n",
        "  liste1.append(CannyFunction(imgres))\n",
        "  liste1.append(1);cannytrainlist.append(liste1)\n",
        "  liste2.append(GaborFunction(imgres))\n",
        "  liste2.append(1);gabortrainlist.append(liste2)\n",
        "for i in trainp:\n",
        "  img=cv2.imread(os.path.join(path3,i))\n",
        "  imgres=cv2.resize(img,(dim,dim))\n",
        "  liste=[];liste1=[];liste2=[]\n",
        "  liste.append(imgres)\n",
        "  liste.append(2);imagedict.append(liste)\n",
        "  liste1.append(CannyFunction(imgres))\n",
        "  liste1.append(2);cannytrainlist.append(liste1)\n",
        "  liste2.append(GaborFunction(imgres))\n",
        "  liste2.append(2);gabortrainlist.append(liste2)"
      ],
      "metadata": {
        "id": "c53ZUre1l3S_"
      },
      "execution_count": 79,
      "outputs": []
    },
    {
      "cell_type": "code",
      "source": [
        "#test images\n",
        "#I applied and recorded all the operations I applied for the train data for the test data.\n",
        "patht0=\"drive/MyDrive/chest_xray/test/covid\"\n",
        "patht1=\"drive/MyDrive/chest_xray/test/normal\"\n",
        "patht2=\"drive/MyDrive/chest_xray/test/pneumonia\"\n",
        "testcovid=os.listdir(patht0)\n",
        "testnormal=os.listdir(patht1)\n",
        "testp=os.listdir(patht2)\n",
        "testdict=[]\n",
        "cannytestlist=[]\n",
        "gabortestlist=[]\n",
        "for i in testcovid:\n",
        "  img=cv2.imread(os.path.join(patht0,i))\n",
        "  imgres=cv2.resize(img,(dim,dim))\n",
        "  liste=[];liste1=[];liste2=[]\n",
        "  liste.append(imgres)\n",
        "  liste.append(0);testdict.append(liste)\n",
        "  liste1.append(CannyFunction(imgres))\n",
        "  liste1.append(0);cannytestlist.append(liste1)\n",
        "  liste2.append(GaborFunction(imgres))\n",
        "  liste2.append(0);gabortestlist.append(liste2)\n",
        "for i in testnormal:\n",
        "  img=cv2.imread(os.path.join(patht1,i))\n",
        "  imgres=cv2.resize(img,(dim,dim))\n",
        "  liste=[];liste1=[];liste2=[]\n",
        "  liste.append(imgres)\n",
        "  liste.append(1);testdict.append(liste)\n",
        "  liste1.append(CannyFunction(imgres))\n",
        "  liste1.append(1);cannytestlist.append(liste1)\n",
        "  liste2.append(GaborFunction(imgres))\n",
        "  liste2.append(1);gabortestlist.append(liste2)\n",
        "for i in testp:\n",
        "  img=cv2.imread(os.path.join(patht2,i))\n",
        "  imgres=cv2.resize(img,(dim,dim))\n",
        "  liste=[];liste1=[];liste2=[]\n",
        "  liste.append(imgres)\n",
        "  liste.append(2);testdict.append(liste)\n",
        "  liste1.append(CannyFunction(imgres))\n",
        "  liste1.append(2);cannytestlist.append(liste1)\n",
        "  liste2.append(GaborFunction(imgres))\n",
        "  liste2.append(2);gabortestlist.append(liste2)"
      ],
      "metadata": {
        "id": "tNdOGdBrldM-"
      },
      "execution_count": 80,
      "outputs": []
    },
    {
      "cell_type": "code",
      "source": [
        "#this is my knn function\n",
        "def myknn(imagedict,testmatrisi,k):\n",
        "  newdict=[]\n",
        "  for i in imagedict:\n",
        "    matrisfarkı=np.sum(np.abs(i[0]-testmatrisi))\n",
        "    new=[]\n",
        "    new.append(matrisfarkı);new.append(i[1])\n",
        "    newdict.append(new)\n",
        "  newdict.sort(key = lambda x: x[0])\n",
        "  liste=[]\n",
        "  a=0;b=1;c=2\n",
        "  for i in range(k):\n",
        "    liste.append(newdict[i][1])\n",
        "  res0=0\n",
        "  res1=0\n",
        "  res2=0\n",
        "  for i in liste:\n",
        "    if i==0:\n",
        "      res0+=1\n",
        "    elif i==1:\n",
        "      res1+=1\n",
        "    else:\n",
        "      res2+=1\n",
        "  if res0>=res1 and res0>=res2:\n",
        "    return a\n",
        "  elif res1>=res0 and res1>=res2:\n",
        "    return b\n",
        "  else:\n",
        "    return c"
      ],
      "metadata": {
        "id": "OWomsH9RRfr6"
      },
      "execution_count": 9,
      "outputs": []
    },
    {
      "cell_type": "code",
      "source": [
        "#this is my weighted knn\n",
        "def myweightedknn(imagedict,testmatrisi,k):\n",
        "  newdict=[]\n",
        "  for i in imagedict:\n",
        "    matrisfarkı=np.sum(np.abs(i[0]-testmatrisi))\n",
        "    new=[]\n",
        "    new.append(matrisfarkı);new.append(i[1])\n",
        "    newdict.append(new)\n",
        "  newdict.sort(key = lambda x: x[0])\n",
        "  freqcovid=0\n",
        "  freqnormal=0\n",
        "  freqpneu=0\n",
        "  for i in range(k):\n",
        "    if(newdict[i][1]==0):  #covid\n",
        "      freqcovid+=1/newdict[i][0]\n",
        "    if(newdict[i][1]==1):  #normal\n",
        "      freqnormal+=1/newdict[i][0]\n",
        "    if(newdict[i][1]==2):  #pneumonia\n",
        "      freqpneu+=1/newdict[i][0]\n",
        "  result=0\n",
        "  if(freqnormal>freqcovid and freqnormal>freqpneu):\n",
        "    result=1\n",
        "  elif(freqpneu>freqcovid and freqpneu>freqnormal):\n",
        "    result=2\n",
        "  return result"
      ],
      "metadata": {
        "id": "woT48taoqxTX"
      },
      "execution_count": 52,
      "outputs": []
    },
    {
      "cell_type": "code",
      "source": [
        "#knn algoritmalarını dene\n",
        "#hiçbir filtreleme yapmadan 3 tane k değerinde ve 2 knn algoritmasında deneyelim\n",
        "#burda ise farklı k değerleriyle iki knn algoritmasında olan test datalarını test ettim\n",
        "actual=[]\n",
        "predicted=[]\n",
        "for i in gabortestlist:\n",
        "  actual.append(i[1])\n",
        "  predicted.append(myweightedknn(gabortrainlist,i[0],7))\n",
        "print(actual)\n",
        "print(predicted)\n"
      ],
      "metadata": {
        "id": "chFM85j6xd0O",
        "colab": {
          "base_uri": "https://localhost:8080/"
        },
        "outputId": "0a67722f-99d7-4a38-8806-96d38d2da28a"
      },
      "execution_count": 118,
      "outputs": [
        {
          "output_type": "stream",
          "name": "stdout",
          "text": [
            "[0, 0, 0, 0, 0, 0, 0, 0, 0, 0, 0, 0, 0, 0, 0, 0, 0, 0, 0, 0, 0, 0, 0, 0, 0, 0, 0, 0, 0, 0, 0, 0, 0, 0, 0, 0, 0, 0, 0, 0, 0, 0, 0, 0, 0, 0, 0, 0, 0, 0, 0, 0, 0, 0, 0, 0, 0, 0, 0, 0, 0, 0, 0, 0, 0, 0, 0, 0, 0, 0, 0, 0, 0, 0, 0, 0, 0, 0, 0, 0, 0, 0, 0, 0, 0, 0, 0, 0, 0, 0, 0, 0, 0, 0, 0, 0, 0, 0, 0, 0, 1, 1, 1, 1, 1, 1, 1, 1, 1, 1, 1, 1, 1, 1, 1, 1, 1, 1, 1, 1, 1, 1, 1, 1, 1, 1, 1, 1, 1, 1, 1, 1, 1, 1, 1, 1, 1, 1, 1, 1, 1, 1, 1, 1, 1, 1, 1, 1, 1, 1, 1, 1, 1, 1, 1, 1, 1, 1, 1, 1, 1, 1, 1, 1, 1, 1, 1, 1, 1, 1, 1, 1, 1, 1, 1, 1, 1, 1, 1, 1, 1, 1, 1, 1, 1, 1, 1, 1, 1, 1, 1, 1, 1, 1, 1, 1, 1, 1, 1, 1, 2, 2, 2, 2, 2, 2, 2, 2, 2, 2, 2, 2, 2, 2, 2, 2, 2, 2, 2, 2, 2, 2, 2, 2, 2, 2, 2, 2, 2, 2, 2, 2, 2, 2, 2, 2, 2, 2, 2, 2, 2, 2, 2, 2, 2, 2, 2, 2, 2, 2, 2, 2, 2, 2, 2, 2, 2, 2, 2, 2, 2, 2, 2, 2, 2, 2, 2, 2, 2, 2, 2, 2, 2, 2, 2, 2, 2, 2, 2, 2, 2, 2, 2, 2, 2, 2, 2, 2, 2, 2, 2, 2, 2, 2, 2, 2, 2, 2, 2, 2]\n",
            "[0, 0, 0, 0, 0, 0, 0, 0, 0, 0, 0, 0, 0, 0, 0, 0, 0, 0, 0, 0, 0, 0, 0, 0, 0, 1, 0, 0, 0, 0, 0, 0, 0, 0, 0, 0, 0, 0, 0, 0, 0, 0, 0, 0, 0, 0, 0, 0, 0, 0, 0, 0, 0, 0, 0, 0, 0, 0, 0, 0, 0, 0, 0, 0, 0, 0, 0, 0, 0, 0, 0, 0, 0, 0, 0, 0, 0, 0, 0, 0, 0, 0, 0, 0, 0, 0, 0, 0, 0, 0, 0, 0, 0, 0, 0, 0, 2, 0, 0, 0, 1, 1, 0, 1, 1, 0, 1, 1, 1, 0, 1, 2, 1, 1, 1, 1, 2, 1, 1, 1, 0, 0, 1, 1, 1, 1, 0, 1, 1, 1, 1, 1, 1, 1, 0, 1, 1, 1, 1, 1, 1, 1, 1, 1, 2, 0, 1, 1, 1, 1, 1, 1, 1, 1, 1, 1, 2, 2, 2, 1, 2, 2, 1, 1, 2, 2, 1, 1, 1, 2, 1, 1, 2, 1, 1, 2, 2, 1, 1, 1, 1, 1, 2, 1, 2, 2, 1, 1, 1, 1, 1, 1, 2, 1, 2, 1, 1, 2, 2, 1, 2, 2, 2, 2, 2, 2, 2, 2, 2, 1, 2, 2, 2, 2, 2, 2, 2, 2, 2, 2, 1, 2, 1, 2, 2, 2, 2, 2, 2, 2, 2, 2, 2, 2, 2, 2, 2, 2, 2, 2, 1, 2, 2, 2, 2, 2, 2, 1, 2, 2, 2, 2, 2, 2, 2, 2, 2, 1, 2, 1, 2, 2, 2, 2, 2, 1, 2, 2, 2, 1, 2, 1, 2, 2, 1, 2, 2, 2, 2, 2, 1, 2, 2, 2, 2, 2, 2, 2, 2, 2, 2, 2, 2, 2, 2, 1, 2, 2, 2, 2]\n"
          ]
        }
      ]
    },
    {
      "cell_type": "code",
      "source": [
        "#confusion matrix for test images\n",
        "confusion_matrix = metrics.confusion_matrix(actual, predicted)\n",
        "cm_display = metrics.ConfusionMatrixDisplay(confusion_matrix = confusion_matrix, display_labels = [False, True])\n",
        "cm_display.plot()\n",
        "plt.show()"
      ],
      "metadata": {
        "id": "x1RjQgMHxNTe",
        "colab": {
          "base_uri": "https://localhost:8080/",
          "height": 279
        },
        "outputId": "fedae965-bd58-42e8-8ed4-50e76b13ddb6"
      },
      "execution_count": 119,
      "outputs": [
        {
          "output_type": "display_data",
          "data": {
            "text/plain": [
              "<Figure size 432x288 with 2 Axes>"
            ],
            "image/png": "[encoded data removed]"
          },
          "metadata": {
            "needs_background": "light"
          }
        }
      ]
    },
    {
      "cell_type": "code",
      "source": [
        "#accuracy, precision, recall\n",
        "# Print the precision and recall, among other metrics\n",
        "print(accuracy_score(actual,predicted))\n",
        "print(metrics.classification_report(actual,predicted, digits=3))"
      ],
      "metadata": {
        "id": "mj0j5p9LxXBo",
        "colab": {
          "base_uri": "https://localhost:8080/"
        },
        "outputId": "d30a5e59-dafc-432f-b896-961ee654c54a"
      },
      "execution_count": 120,
      "outputs": [
        {
          "output_type": "stream",
          "name": "stdout",
          "text": [
            "0.8533333333333334\n",
            "              precision    recall  f1-score   support\n",
            "\n",
            "           0      0.925     0.980     0.951       100\n",
            "           1      0.835     0.710     0.768       100\n",
            "           2      0.798     0.870     0.833       100\n",
            "\n",
            "    accuracy                          0.853       300\n",
            "   macro avg      0.853     0.853     0.851       300\n",
            "weighted avg      0.853     0.853     0.851       300\n",
            "\n"
          ]
        }
      ]
    },
    {
      "cell_type": "code",
      "source": [
        "#If we need to interpret the results, we see that the Gabor filter gave us better results, but the Canny function did not give good results,\n",
        "# especially when the size is 64.\n",
        "#When we examine according to the k value, we see that the results do not change much. This is probably because there is not much difference between them.\n",
        "# If we had tested much more k values, we could have seen big changes.When we look at the state before using the Canny and Gabor algorithms,\n",
        "# we see that we generally reach lower accuracy than the algorithms. The reason for this is that we cannot make a correct comparison without passing\n",
        "# some filters on the pictures and closing some imperfections. But in general, a maximum of 80% accuracy has been achieved with these algorithms.\n",
        "# This is an indication that we need better or extra filtering etc algorithms.\n",
        "#When we look at an example for which we did not get any correct results, we see that the picture is crooked. Of course, this does not allow us the right result."
      ],
      "metadata": {
        "id": "m56J8Pw4xv-C"
      },
      "execution_count": null,
      "outputs": []
    }
  ],
  "metadata": {
    "colab": {
      "collapsed_sections": [],
      "provenance": []
    },
    "kernelspec": {
      "display_name": "Python 3",
      "language": "python",
      "name": "python3"
    },
    "language_info": {
      "codemirror_mode": {
        "name": "ipython",
        "version": 3
      },
      "file_extension": ".py",
      "mimetype": "text/x-python",
      "name": "python",
      "nbconvert_exporter": "python",
      "pygments_lexer": "ipython3",
      "version": "3.8.8"
    }
  },
  "nbformat": 4,
  "nbformat_minor": 0
}